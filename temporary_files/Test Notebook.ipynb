{
 "cells": [
  {
   "cell_type": "code",
   "execution_count": 1,
   "id": "f5b25ef2-913d-40b2-b192-bd4769a8fc45",
   "metadata": {},
   "outputs": [],
   "source": [
    "import random\n",
    "import numpy as np\n",
    "import torch"
   ]
  },
  {
   "cell_type": "code",
   "execution_count": 6,
   "id": "e04fe257-5a9e-4116-a750-77006abad1b4",
   "metadata": {},
   "outputs": [],
   "source": [
    "a = torch.tensor([0, 1, 1, 0, 0])"
   ]
  },
  {
   "cell_type": "code",
   "execution_count": 7,
   "id": "277aac87-49a6-4ba5-9977-bc52ed8249f0",
   "metadata": {},
   "outputs": [
    {
     "name": "stdout",
     "output_type": "stream",
     "text": [
      "tensor(0) <class 'torch.Tensor'>\n"
     ]
    }
   ],
   "source": [
    "b = a[0]\n",
    "print(b, type(b))"
   ]
  },
  {
   "cell_type": "code",
   "execution_count": 8,
   "id": "dc78a444-d32b-42c5-b1ba-e1e5567c81e9",
   "metadata": {},
   "outputs": [],
   "source": [
    "c = a[0].item()"
   ]
  },
  {
   "cell_type": "code",
   "execution_count": 9,
   "id": "a6a1f71d-593d-46ef-9369-7b4858534eb9",
   "metadata": {},
   "outputs": [
    {
     "name": "stdout",
     "output_type": "stream",
     "text": [
      "0 <class 'int'>\n"
     ]
    }
   ],
   "source": [
    "print(c, type(c))"
   ]
  },
  {
   "cell_type": "code",
   "execution_count": 10,
   "id": "43673aff-b4fa-4a95-97b0-5c91b3ba9a27",
   "metadata": {},
   "outputs": [],
   "source": [
    "controlled_crosswalks_dict = {0: [':9687187500_c0', ':9687187501_c0'], \n",
    "                                           1: [':9727816850_c0'],  \n",
    "                                           2: [':9727816623_c0'],\n",
    "                                            3: [':9740157155_c0'], \n",
    "                                            4: [':cluster_9740157181_9740483933_c0'], \n",
    "                                            5: [':9740157194_c0'],  \n",
    "                                            6: [':9740157209_c0'], \n",
    "                                            7: [':9740484527_c0'],\n",
    "                                            8: [':cluster_172228408_9739966907_9739966910_c2']}"
   ]
  },
  {
   "cell_type": "code",
   "execution_count": 12,
   "id": "b39f537d-ed47-494e-b986-25321fbd440f",
   "metadata": {},
   "outputs": [],
   "source": []
  },
  {
   "cell_type": "code",
   "execution_count": 13,
   "id": "66c769e9-da8c-4304-bf71-6a44dc015684",
   "metadata": {},
   "outputs": [
    {
     "data": {
      "text/plain": [
       "9"
      ]
     },
     "execution_count": 13,
     "metadata": {},
     "output_type": "execute_result"
    }
   ],
   "source": [
    "total = len(controlled_crosswalks_dict)\n",
    "total"
   ]
  },
  {
   "cell_type": "code",
   "execution_count": 14,
   "id": "9770cefc-5463-471e-a444-1505ac462ca7",
   "metadata": {},
   "outputs": [
    {
     "data": {
      "text/plain": [
       "array([0, 0, 1, 1, 1, 1, 0, 1, 1])"
      ]
     },
     "execution_count": 14,
     "metadata": {},
     "output_type": "execute_result"
    }
   ],
   "source": [
    "np.random.randint(2, size=len(controlled_crosswalks_dict))"
   ]
  },
  {
   "cell_type": "code",
   "execution_count": 15,
   "id": "f2fd66af-e176-405a-ba08-090030a2c152",
   "metadata": {},
   "outputs": [],
   "source": [
    "initial_action = [0] + np.random.randint(2, size=len(controlled_crosswalks_dict)).tolist()"
   ]
  },
  {
   "cell_type": "code",
   "execution_count": 16,
   "id": "19d6dc1e-e98f-4db8-b0b9-4b330590c33b",
   "metadata": {},
   "outputs": [
    {
     "data": {
      "text/plain": [
       "[0, 1, 1, 0, 1, 0, 0, 0, 1, 0]"
      ]
     },
     "execution_count": 16,
     "metadata": {},
     "output_type": "execute_result"
    }
   ],
   "source": [
    "initial_action"
   ]
  },
  {
   "cell_type": "code",
   "execution_count": 17,
   "id": "ad9f2a19-8830-4150-89b7-786b6c209885",
   "metadata": {},
   "outputs": [
    {
     "data": {
      "text/plain": [
       "tensor([0, 1, 1, 0, 1, 0, 0, 0, 1, 0])"
      ]
     },
     "execution_count": 17,
     "metadata": {},
     "output_type": "execute_result"
    }
   ],
   "source": [
    "torch.tensor(initial_action)"
   ]
  },
  {
   "cell_type": "code",
   "execution_count": 17,
   "id": "c4cc6d27-a308-456d-8d2c-bcadafec634c",
   "metadata": {},
   "outputs": [
    {
     "name": "stdout",
     "output_type": "stream",
     "text": [
      "tensor([0, 1, 1, 0, 0, 1, 0, 0, 0, 1])\n",
      "[[':9687187500_c0', ':9687187501_c0'], [':9727816850_c0'], [':cluster_9740157181_9740483933_c0'], [':cluster_172228408_9739966907_9739966910_c2']]\n"
     ]
    }
   ],
   "source": [
    "\n",
    "controlled_crosswalks_dict = {0: [':9687187500_c0', ':9687187501_c0'], \n",
    "                                           1: [':9727816850_c0'],  \n",
    "                                           2: [':9727816623_c0'],\n",
    "                                            3: [':9740157155_c0'], \n",
    "                                            4: [':cluster_9740157181_9740483933_c0'], \n",
    "                                            5: [':9740157194_c0'],  \n",
    "                                            6: [':9740157209_c0'], \n",
    "                                            7: [':9740484527_c0'],\n",
    "                                            8: [':cluster_172228408_9739966907_9739966910_c2']}\n",
    "\n",
    "initial_action = torch.tensor([0] + np.random.randint(2, size=len(controlled_crosswalks_dict)).tolist())\n",
    "print(initial_action)\n",
    "\n",
    "crosswalks_to_disable = initial_action[1:].tolist()\n",
    "selected_crosswalks = [] \n",
    "for i in range(len(crosswalks_to_disable)):\n",
    "    if crosswalks_to_disable[i] == 1:\n",
    "        selected_crosswalks.append(controlled_crosswalks_dict[i])\n",
    "\n",
    "print(selected_crosswalks)"
   ]
  },
  {
   "cell_type": "code",
   "execution_count": 18,
   "id": "ce5232b0-db0f-4824-9245-552a2fd02d89",
   "metadata": {},
   "outputs": [],
   "source": [
    "selected_crosswalks = [crosswalk for i, crosswalks in enumerate(controlled_crosswalks_dict.values()) if initial_action[i+1] == 1 for crosswalk in crosswalks]"
   ]
  },
  {
   "cell_type": "code",
   "execution_count": 19,
   "id": "a8edf534-9ddc-483b-8549-0c88f4e5a149",
   "metadata": {},
   "outputs": [
    {
     "data": {
      "text/plain": [
       "[':9687187500_c0',\n",
       " ':9687187501_c0',\n",
       " ':9727816850_c0',\n",
       " ':cluster_9740157181_9740483933_c0',\n",
       " ':cluster_172228408_9739966907_9739966910_c2']"
      ]
     },
     "execution_count": 19,
     "metadata": {},
     "output_type": "execute_result"
    }
   ],
   "source": [
    "selected_crosswalks"
   ]
  },
  {
   "cell_type": "code",
   "execution_count": 3,
   "id": "4e317448-bdb1-44d4-bb2a-a7f53118e9ba",
   "metadata": {},
   "outputs": [],
   "source": [
    "controlled_crosswalks_dict = {\n",
    "            0: {\n",
    "                'ids': [':9687187500_c0', ':9687187501_c0'],\n",
    "                'walking_areas': [':9687187501_w1',':9687187501_w0',':9687187500_w1',':9687187500_w0'],\n",
    "                'connected_areas': ['1058666192','1054121747#1','1054121747#2',':9687187495_w0'], # Add _0 to make it a lane\n",
    "                'related_junctions': ['9687187500', '9687187501', '9727816658', '9687187495'],\n",
    "            },\n",
    "            1: {\n",
    "                'ids': [':9727816850_c0'],\n",
    "                'walking_areas': [':9727816850_w0',':9727816850_w1'],\n",
    "                'connected_areas': [':9727816844_w0', '1058666207#1'], # If it has a w0 its more walking area\n",
    "                'related_junctions': ['9727816844', '9727816850', '9727816850'],\n",
    "            },\n",
    "            2: {\n",
    "                'ids': [':9727816623_c0'],\n",
    "                'walking_areas': [':9727816623_w1',':9727816623_w0'],\n",
    "                'connected_areas': ['1058666188#1', '1051865729#3_0'],\n",
    "                'related_junctions': ['9727816623'],\n",
    "            },\n",
    "            3: {\n",
    "                'ids': [':9740157155_c0'],\n",
    "                'walking_areas': [':9740157155_w1', ':9740157155_w0'],\n",
    "                'connected_areas': ['1060131391#1', ':9740157153_w0'],\n",
    "                'related_junctions': ['9740157155', '9740157153'],\n",
    "            },\n",
    "            4: {\n",
    "                'ids': [':cluster_9740157181_9740483933_c0'],\n",
    "                'walking_areas': [':cluster_9740157181_9740483933_w0', ':cluster_9740157181_9740483933_w1'],\n",
    "                'connected_areas': ['1060131401#3', ':9740157180_w0'],\n",
    "                'related_junctions': ['cluster_9740157181_9740483933'],\n",
    "            },\n",
    "            5: {\n",
    "                'ids': [':9740157194_c0'],\n",
    "                'walking_areas': [':9740157194_w1', ':9740157194_w0'],\n",
    "                'connected_areas': [':9740157192_w0', '1060131406', '1060131405#1'],\n",
    "                'related_junctions': ['9740157194', '9740157192'],\n",
    "            },\n",
    "            6: {\n",
    "                'ids': [':9740157209_c0'],\n",
    "                'walking_areas': [':9740157209_w0', ':9740157209_w1'],\n",
    "                'connected_areas': ['1060131408#1', ':9740157207_w0'],\n",
    "                'related_junctions': ['9740157209', '9740157207', '9740157211'],\n",
    "            },\n",
    "            7: {\n",
    "                'ids': [':9740484527_c0'],\n",
    "                'walking_areas': [':9740484527_w0', ':9740484527_w1'],\n",
    "                'connected_areas': ['1050677005#21', '1060166260#1'],\n",
    "                'related_junctions': ['9740484527'],\n",
    "            },\n",
    "            8: {\n",
    "                'ids': [':cluster_172228408_9739966907_9739966910_c2'],\n",
    "                'walking_areas': [':cluster_172228408_9739966907_9739966910_w2', ':cluster_172228408_9739966907_9739966910_w3'],\n",
    "                'connected_areas': [':9739966908_w0'],\n",
    "                'related_junctions': [], # This is already in a junction\n",
    "            }\n",
    "        }"
   ]
  },
  {
   "cell_type": "code",
   "execution_count": 8,
   "id": "1a1d9432-d500-4b5a-a950-7628766620c9",
   "metadata": {},
   "outputs": [
    {
     "name": "stdout",
     "output_type": "stream",
     "text": [
      "[':cluster_172228408_9739966907_9739966910_w2', ':cluster_172228408_9739966907_9739966910_w3']\n"
     ]
    }
   ],
   "source": [
    "selected = [':cluster_172228408_9739966907_9739966910_c2']\n",
    "for crosswalk_id in selected: \n",
    "    walking = controlled_crosswalks_dict[next(i for i, d in controlled_crosswalks_dict.items() if crosswalk_id in d['ids'])]['walking_areas']\n",
    "print(walking)\n",
    "\n"
   ]
  },
  {
   "cell_type": "code",
   "execution_count": 11,
   "id": "30bcc763-c702-4c35-9182-f0d1d756ca71",
   "metadata": {},
   "outputs": [
    {
     "name": "stdout",
     "output_type": "stream",
     "text": [
      "['1060131408#1', ':9740157207_w0']\n"
     ]
    }
   ],
   "source": [
    "selected = [':9740157209_c0']\n",
    "for crosswalk_id in selected: \n",
    "    connected = controlled_crosswalks_dict[next(i for i, d in controlled_crosswalks_dict.items() if crosswalk_id in d['ids'])]['connected_areas']\n",
    "print(connected)\n"
   ]
  },
  {
   "cell_type": "code",
   "execution_count": null,
   "id": "99ffd7b2-7a10-491f-adcf-a2ee53db107b",
   "metadata": {},
   "outputs": [],
   "source": []
  }
 ],
 "metadata": {
  "kernelspec": {
   "display_name": "Python 3 (ipykernel)",
   "language": "python",
   "name": "python3"
  },
  "language_info": {
   "codemirror_mode": {
    "name": "ipython",
    "version": 3
   },
   "file_extension": ".py",
   "mimetype": "text/x-python",
   "name": "python",
   "nbconvert_exporter": "python",
   "pygments_lexer": "ipython3",
   "version": "3.10.0"
  }
 },
 "nbformat": 4,
 "nbformat_minor": 5
}
